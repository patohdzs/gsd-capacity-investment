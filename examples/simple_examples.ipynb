{
 "cells": [
  {
   "cell_type": "code",
   "execution_count": 1,
   "metadata": {},
   "outputs": [],
   "source": [
    "import numpy as np\n",
    "from gsd_capacity_investment import compute_cutoffs, compute_ccps, compute_ex_ante_value\n"
   ]
  },
  {
   "cell_type": "markdown",
   "metadata": {},
   "source": [
    "### Example 1 from GSD (2025)"
   ]
  },
  {
   "cell_type": "code",
   "execution_count": 2,
   "metadata": {},
   "outputs": [],
   "source": [
    "costs = np.array([1, 2, 3])\n",
    "cs_values = np.array([0, 1.5, 2])"
   ]
  },
  {
   "cell_type": "code",
   "execution_count": 3,
   "metadata": {},
   "outputs": [
    {
     "data": {
      "text/plain": [
       "(array([inf, 1.5, 0.5]),\n",
       " array([ 1.5,  0.5, -inf]),\n",
       " array([False, False, False]))"
      ]
     },
     "execution_count": 3,
     "metadata": {},
     "output_type": "execute_result"
    }
   ],
   "source": [
    "cutoffs = compute_cutoffs(cs_values, costs)\n",
    "cutoffs"
   ]
  },
  {
   "cell_type": "code",
   "execution_count": 4,
   "metadata": {},
   "outputs": [
    {
     "data": {
      "text/plain": [
       "array([0.0668072 , 0.24173034, 0.69146246])"
      ]
     },
     "execution_count": 4,
     "metadata": {},
     "output_type": "execute_result"
    }
   ],
   "source": [
    "ccps = compute_ccps(*cutoffs)\n",
    "ccps"
   ]
  },
  {
   "cell_type": "code",
   "execution_count": 5,
   "metadata": {},
   "outputs": [
    {
     "data": {
      "text/plain": [
       "np.float64(2.227103351163911)"
      ]
     },
     "execution_count": 5,
     "metadata": {},
     "output_type": "execute_result"
    }
   ],
   "source": [
    "value = compute_ex_ante_value(cs_values, costs, *cutoffs)\n",
    "value"
   ]
  },
  {
   "cell_type": "markdown",
   "metadata": {},
   "source": [
    "### Example 2 from GSD (2025)"
   ]
  },
  {
   "cell_type": "code",
   "execution_count": 6,
   "metadata": {},
   "outputs": [],
   "source": [
    "costs = np.array([1, 2, 3])\n",
    "cs_values = np.array([0, 0.5, 2])"
   ]
  },
  {
   "cell_type": "code",
   "execution_count": 7,
   "metadata": {},
   "outputs": [
    {
     "data": {
      "text/plain": [
       "(array([inf, 0.5, 1. ]),\n",
       " array([ 1. ,  1.5, -inf]),\n",
       " array([False,  True, False]))"
      ]
     },
     "execution_count": 7,
     "metadata": {},
     "output_type": "execute_result"
    }
   ],
   "source": [
    "cutoffs = compute_cutoffs(cs_values, costs)\n",
    "cutoffs"
   ]
  },
  {
   "cell_type": "code",
   "execution_count": 8,
   "metadata": {},
   "outputs": [
    {
     "data": {
      "text/plain": [
       "array([0.15865525, 0.        , 0.84134475])"
      ]
     },
     "execution_count": 8,
     "metadata": {},
     "output_type": "execute_result"
    }
   ],
   "source": [
    "ccps = compute_ccps(*cutoffs)\n",
    "ccps"
   ]
  },
  {
   "cell_type": "code",
   "execution_count": 9,
   "metadata": {},
   "outputs": [
    {
     "data": {
      "text/plain": [
       "np.float64(2.166630941175373)"
      ]
     },
     "execution_count": 9,
     "metadata": {},
     "output_type": "execute_result"
    }
   ],
   "source": [
    "value = compute_ex_ante_value(cs_values, costs, *cutoffs)\n",
    "value"
   ]
  },
  {
   "cell_type": "markdown",
   "metadata": {},
   "source": [
    "### Example 3 with larger action set"
   ]
  },
  {
   "cell_type": "code",
   "execution_count": 10,
   "metadata": {},
   "outputs": [
    {
     "name": "stdout",
     "output_type": "stream",
     "text": [
      "Choice-specific values:  [ 0.17251947  1.63548253  0.0373364  -0.88414969 -1.14319226 -0.62136604\n",
      " -1.34864958 -0.81973103 -0.1342539   1.59960004 -0.28360363 -0.50633982\n",
      "  0.06890842  1.4522595  -1.63909561 -0.31265944 -0.87126643 -0.4566824\n",
      " -0.12246672 -0.45106231]\n",
      "Costs:  [-2.04378667 -1.36217968 -1.09228374 -1.03032386 -0.88906098 -0.73763812\n",
      " -0.43200605 -0.34120143 -0.30189941 -0.16598697 -0.13850416 -0.01855969\n",
      "  0.3641818   0.37483657  0.41227425  0.43338068  0.64538909  0.81507352\n",
      "  1.03147165  1.35830044]\n"
     ]
    }
   ],
   "source": [
    "# Set random seed\n",
    "np.random.seed(321)\n",
    "\n",
    "# Sample random choice-specific values\n",
    "cs_values = np.random.normal(size=20)\n",
    "print(\"Choice-specific values: \", cs_values)\n",
    "\n",
    "# Sample and and sort costs\n",
    "costs = np.random.normal(size=20)\n",
    "costs = np.sort(costs)\n",
    "print(\"Costs: \", costs)"
   ]
  },
  {
   "cell_type": "code",
   "execution_count": 11,
   "metadata": {},
   "outputs": [
    {
     "data": {
      "text/plain": [
       "(array([            inf,  2.14634397e+00, -5.92134185e+00, -1.48723041e+01,\n",
       "        -5.87310290e+00, -3.61360830e+00, -3.20814527e+00, -2.40476579e+00,\n",
       "        -1.66912135e+00, -2.99972479e-02, -6.85229796e+01, -1.42846013e+01,\n",
       "        -2.88717801e+00, -2.72437363e-01, -8.25733444e+01, -3.01468232e+01,\n",
       "        -8.58807724e+00, -4.33616915e+00, -2.39817559e+00, -1.93532459e+00]),\n",
       " array([ 2.14634397e+00, -2.99972479e-02, -5.80903776e+00, -1.83376247e+00,\n",
       "         3.44615203e+00, -2.37960486e+00,  5.82479741e+00,  1.74412703e+01,\n",
       "         1.27571395e+01, -2.72437363e-01, -1.85699417e+00,  1.50296805e+00,\n",
       "         1.29834050e+02, -1.93532459e+00,  6.28451446e+01, -2.63483411e+00,\n",
       "         2.44326493e+00,  1.54444807e+00, -1.00540587e+00,            -inf]),\n",
       " array([False, False,  True,  True,  True,  True,  True,  True,  True,\n",
       "        False,  True,  True,  True, False,  True,  True,  True,  True,\n",
       "         True, False]))"
      ]
     },
     "execution_count": 11,
     "metadata": {},
     "output_type": "execute_result"
    }
   ],
   "source": [
    "cutoffs = compute_cutoffs(cs_values, costs)\n",
    "cutoffs"
   ]
  },
  {
   "cell_type": "code",
   "execution_count": 12,
   "metadata": {},
   "outputs": [
    {
     "data": {
      "text/plain": [
       "array([0.01592277, 0.4960426 , 0.        , 0.        , 0.        ,\n",
       "       0.        , 0.        , 0.        , 0.        , 0.09539175,\n",
       "       0.        , 0.        , 0.        , 0.36616764, 0.        ,\n",
       "       0.        , 0.        , 0.        , 0.        , 0.02647524])"
      ]
     },
     "execution_count": 12,
     "metadata": {},
     "output_type": "execute_result"
    }
   ],
   "source": [
    "ccps = compute_ccps(*cutoffs)\n",
    "ccps"
   ]
  },
  {
   "cell_type": "code",
   "execution_count": 13,
   "metadata": {},
   "outputs": [
    {
     "data": {
      "text/plain": [
       "np.float64(2.25880176395387)"
      ]
     },
     "execution_count": 13,
     "metadata": {},
     "output_type": "execute_result"
    }
   ],
   "source": [
    "value = compute_ex_ante_value(cs_values, costs, *cutoffs)\n",
    "value"
   ]
  }
 ],
 "metadata": {
  "kernelspec": {
   "display_name": ".venv",
   "language": "python",
   "name": "python3"
  },
  "language_info": {
   "codemirror_mode": {
    "name": "ipython",
    "version": 3
   },
   "file_extension": ".py",
   "mimetype": "text/x-python",
   "name": "python",
   "nbconvert_exporter": "python",
   "pygments_lexer": "ipython3",
   "version": "3.10.16"
  }
 },
 "nbformat": 4,
 "nbformat_minor": 2
}
